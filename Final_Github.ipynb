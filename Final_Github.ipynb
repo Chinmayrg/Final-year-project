{
  "nbformat": 4,
  "nbformat_minor": 0,
  "metadata": {
    "colab": {
      "name": "Final_Github.ipynb",
      "provenance": [],
      "collapsed_sections": []
    },
    "kernelspec": {
      "name": "python3",
      "display_name": "Python 3"
    },
    "language_info": {
      "name": "python"
    }
  },
  "cells": [
    {
      "cell_type": "markdown",
      "metadata": {
        "id": "gYJAZzz3bkR0"
      },
      "source": [
        "### ***Detection Of Cyber-Bulling Incidents On Instagram Social Network***"
      ]
    },
    {
      "cell_type": "code",
      "metadata": {
        "id": "-N1EFnhObno4"
      },
      "source": [
        "#importing libraries\n",
        "\n",
        "import pandas as pd\n",
        "import numpy as np\n",
        "import seaborn as sns\n",
        "import matplotlib.pyplot as plt\n",
        " %matplotlib inline\n",
        "import re\n",
        "from wordcloud import WordCloud"
      ],
      "execution_count": null,
      "outputs": []
    },
    {
      "cell_type": "code",
      "metadata": {
        "id": "RN_Iwk9YcFwP"
      },
      "source": [
        "# Loading the data\n",
        "\n",
        "df=pd.read_csv(C:/Users/Pratik/PycharmProjects/project/Instagram-CommentsScraper/comments.csv',sep=',')\n",
        "\n"
      ],
      "execution_count": null,
      "outputs": []
    },
    {
      "cell_type": "code",
      "metadata": {
        "id": "EfAQ7JDtcOgq"
      },
      "source": [
        "#Displaying first 10 Comments\n",
        "\n",
        "df.head(10)"
      ],
      "execution_count": null,
      "outputs": []
    },
    {
      "cell_type": "code",
      "metadata": {
        "id": "odXixvp6cTX_"
      },
      "source": [
        "# Converting to list\n",
        "\n",
        "df['data'] = df.Comment.tolist()\n",
        "data=df['data']"
      ],
      "execution_count": null,
      "outputs": []
    },
    {
      "cell_type": "code",
      "metadata": {
        "id": "_TeGOu3ycfvz"
      },
      "source": [
        "#Displaying data\n",
        "\n",
        "data"
      ],
      "execution_count": null,
      "outputs": []
    },
    {
      "cell_type": "code",
      "metadata": {
        "id": "k6GFPJyzciCG"
      },
      "source": [
        "# Pre-processing steps for data\n",
        "\n",
        "df['data'] = [re.sub('\\s*@\\s*\\s?', ' ', str(sent)) for sent in df['data']]\n",
        "df['data'] = [re.sub('\\?', ' ', str(sent)) for sent in df['data']]\n",
        "df['data'] = [re.sub('\\_', ' ', str(sent)) for sent in df['data']]\n",
        "df['data'] = [re.sub('@\"[\\d-]\"', ' ', str(sent)) for sent in df['data']]"
      ],
      "execution_count": null,
      "outputs": []
    },
    {
      "cell_type": "code",
      "metadata": {
        "id": "Pt5-cOnRcndA"
      },
      "source": [
        "# Remove new line characters\n",
        "\n",
        "df['data'] = [re.sub('\\s+', ' ', str(sent)) for sent in df['data']]"
      ],
      "execution_count": null,
      "outputs": []
    },
    {
      "cell_type": "code",
      "metadata": {
        "id": "FD2owSvtctb6"
      },
      "source": [
        "# Remove distracting single quotes\n",
        "\n",
        "df['data'] = [re.sub(\"\\'\", \" \", str(sent)) for sent in df['data']]"
      ],
      "execution_count": null,
      "outputs": []
    },
    {
      "cell_type": "code",
      "metadata": {
        "id": "gMd0q3Yjc2bY"
      },
      "source": [
        "#Converting into lowercase\n",
        "\n",
        "df['data']=df['data'].str.lower()"
      ],
      "execution_count": null,
      "outputs": []
    },
    {
      "cell_type": "code",
      "metadata": {
        "id": "Ge1PP9OEc3qx"
      },
      "source": [
        "#Remove Emojis from column comments_text\n",
        "\n",
        "df['data'] = df['data'].str.replace('[^\\w\\s#@/:%.,_-]', '', flags=re.UNICODE)"
      ],
      "execution_count": null,
      "outputs": []
    },
    {
      "cell_type": "code",
      "metadata": {
        "id": "akYH7OQXc78d"
      },
      "source": [
        "#Displaying data\n",
        "\n",
        "df['data']"
      ],
      "execution_count": null,
      "outputs": []
    },
    {
      "cell_type": "code",
      "metadata": {
        "id": "aYqsoIIMdB0d"
      },
      "source": [
        "#Plotting Graph\n",
        "\n",
        "bloblist_desc = list()\n",
        " \n",
        "df_comments=df['data'].astype(str)\n",
        "for row in df_comments:\n",
        "    blob = TextBlob(row)\n",
        "    bloblist_desc.append((row,blob.sentiment.polarity, blob.sentiment.subjectivity))\n",
        "    df_comments_polarity_desc = pd.DataFrame(bloblist_desc, columns = ['sentence','sentiment','polarity'])\n",
        " \n",
        "def f(df_comments_polarity_desc):\n",
        "    if df_comments_polarity_desc['sentiment'] > 0:\n",
        "        val = \"not_bullying\"\n",
        "    elif df_comments_polarity_desc['sentiment'] == 0:\n",
        "        val = \"Neutral\"\n",
        "    else:\n",
        "        val = \"bullying\"\n",
        "    return val\n",
        " \n",
        "df_comments_polarity_desc['Sentiment_Type'] = df_comments_polarity_desc.apply(f, axis=1)\n",
        " \n",
        "plt.figure(figsize=(5,5))\n",
        "sns.set_style(\"whitegrid\")\n",
        "ax = sns.countplot(x=\"Sentiment_Type\", data=df_comments_polarity_desc)"
      ],
      "execution_count": null,
      "outputs": []
    },
    {
      "cell_type": "code",
      "metadata": {
        "id": "jPRCD9w8dntC"
      },
      "source": [
        "# word cloud visualization\n",
        "\n",
        "allWords = ' '.join([twts for twts in df['data']])\n",
        "wordCloud = WordCloud(width=500, height=300, random_state=21,\n",
        "max_font_size=110).generate(allWords)\n",
        "plt.imshow(wordCloud, interpolation=\"bilinear\")\n",
        "plt.axis('off')\n",
        "plt.show()"
      ],
      "execution_count": null,
      "outputs": []
    },
    {
      "cell_type": "code",
      "metadata": {
        "id": "woBQ4dZPdppg"
      },
      "source": [
        "# Plotting\n",
        "\n",
        "plt.figure(figsize=(8,6))\n",
        "for i in range(0, df.shape[0]):\n",
        " plt.scatter(df[\"Polarity\"][i], df[\"Subjectivity\"][i], color='Blue')\n",
        " plt.scatter(x,y,color)\n",
        " plt.title('Sentiment Analysis') \n",
        " plt.xlabel('Polarity')\n",
        " plt.ylabel('Subjectivity')\n",
        " plt.show()"
      ],
      "execution_count": null,
      "outputs": []
    },
    {
      "cell_type": "code",
      "metadata": {
        "id": "UWc0f7d3dunB"
      },
      "source": [
        " #Results are stored in a new CSV file\n",
        " \n",
        "df_comments_polarity_desc.to_csv('new.csv',sep=';')\n",
        "df['data']"
      ],
      "execution_count": null,
      "outputs": []
    },
    {
      "cell_type": "code",
      "metadata": {
        "id": "EMR38__JeeBU"
      },
      "source": [
        "#Displaying Data after Sentiment Analysis\n",
        " \n",
        "df = pd.read_csv('new.csv',sep=';')\n",
        "df.head(200)"
      ],
      "execution_count": null,
      "outputs": []
    }
  ]
}